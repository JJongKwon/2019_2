{
 "cells": [
  {
   "cell_type": "markdown",
   "metadata": {},
   "source": [
    "# Linear Algebra\n",
    "\n",
    "- [Machine Learning & Linear Algebra](https://medium.com/@jonathan_hui/machine-learning-linear-algebra-a5b1658f0151)\n",
    "\n",
    "- [Machine Learning & Linear Algebra — Eigenvalue and eigenvector](https://medium.com/@jonathan_hui/machine-learning-linear-algebra-eigenvalue-and-eigenvector-f8d0493564c9)"
   ]
  },
  {
   "cell_type": "markdown",
   "metadata": {},
   "source": [
    "# Likelihood\n",
    "\n",
    "- [Fundamentals of Machine Learning (Part 1) - Probability Theory](https://towardsdatascience.com/probability-fundamentals-of-machine-learning-part-1-a156b4703e69)\n",
    "\n",
    "- [Fundamentals of Machine Learning (Part 2) - Maximum Likelihood Estimation](https://towardsdatascience.com/maximum-likelihood-estimation-984af2dcfcac)\n",
    "\n",
    "- [Fundamentals of Machine Learning (Part 3) - Information Theory](https://towardsdatascience.com/fundamentals-of-machine-learning-part-3-b305933f00cd)"
   ]
  },
  {
   "cell_type": "markdown",
   "metadata": {},
   "source": [
    "# Linear Model\n",
    "\n",
    "- [Generalized Linear Models](https://towardsdatascience.com/generalized-linear-models-8738ae0fb97d)\n",
    "\n",
    "- [Introduction to Bayesian Linear Regression](https://towardsdatascience.com/introduction-to-bayesian-linear-regression-e66e60791ea7)"
   ]
  },
  {
   "cell_type": "markdown",
   "metadata": {},
   "source": [
    "# Object-Oriented Programming\n",
    "\n",
    "- [What is Object-Oriented Programming?](https://medium.com/learn-how-to-program/chapter-3-what-is-object-oriented-programming-d0a6ec0a7615)\n",
    "\n",
    "- [Object-Oriented Programming (OOP) in Python 3](https://realpython.com/python3-object-oriented-programming/#what-is-object-oriented-programming-oop)\n",
    "\n",
    "- [Exercise](https://python-textbok.readthedocs.io/en/1.0/Object_Oriented_Programming.html#)\n",
    "\n",
    "\n",
    "위 내용만으로 부족할 것 같아서 책을 한 권 찾아봤습니다. [**Book**](https://books.google.co.kr/books?id=08t1DwAAQBAJ&printsec=frontcover&dq=Python+3+Object-oriented+Programming+-+Third+Edition&hl=ko&sa=X&ved=0ahUKEwjEsdughaDkAhVVIqYKHTULAbkQ6AEIKDAA#v=onepage&q=Python%203%20Object-oriented%20Programming%20-%20Third%20Edition&f=false)\n",
    "\n",
    "***\n",
    "위와 비슷한 내용인것 같아서 따로 빼놨습니다.\n",
    "\n",
    "https://python.swaroopch.com/oop.html\n",
    "\n",
    "https://stackabuse.com/object-oriented-programming-in-python/#class"
   ]
  }
 ],
 "metadata": {
  "kernelspec": {
   "display_name": "Python 3",
   "language": "python",
   "name": "python3"
  },
  "language_info": {
   "codemirror_mode": {
    "name": "ipython",
    "version": 3
   },
   "file_extension": ".py",
   "mimetype": "text/x-python",
   "name": "python",
   "nbconvert_exporter": "python",
   "pygments_lexer": "ipython3",
   "version": "3.7.3"
  }
 },
 "nbformat": 4,
 "nbformat_minor": 2
}
